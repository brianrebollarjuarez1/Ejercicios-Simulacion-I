{
  "cells": [
    {
      "cell_type": "markdown",
      "metadata": {
        "id": "view-in-github",
        "colab_type": "text"
      },
      "source": [
        "<a href=\"https://colab.research.google.com/github/brianrebollarjuarez1/Ejercicios-Simulacion-I/blob/main/Copia_de_Notas_sobre_Python.ipynb\" target=\"_parent\"><img src=\"https://colab.research.google.com/assets/colab-badge.svg\" alt=\"Open In Colab\"/></a>"
      ]
    },
    {
      "cell_type": "markdown",
      "metadata": {
        "id": "sbG50764EHgA"
      },
      "source": [
        "## Listas"
      ]
    },
    {
      "cell_type": "markdown",
      "metadata": {
        "id": "xOhgSD7kEHgD"
      },
      "source": [
        "Una **lista** es una colección ordenada de objetos, que pueden ser de distintos tipos. Las listas son mutables y se pueden realizar varias operaciones con ellas mediante funciones de Python."
      ]
    },
    {
      "cell_type": "markdown",
      "metadata": {
        "id": "QVubShWREHgE"
      },
      "source": [
        "Se pueden definir mediante corchetes [ ], entre los cuales se escriben los objetos separados por comas. Así, son listas:"
      ]
    },
    {
      "cell_type": "code",
      "execution_count": null,
      "metadata": {
        "id": "zDijVo6JEHgF"
      },
      "outputs": [],
      "source": [
        "l = []\n",
        "\n",
        "m = [1,2,2]\n",
        "\n",
        "lista = [1,2,3,4,5, 'a', 'b', 'c', [1,2], [3, 'c']]"
      ]
    },
    {
      "cell_type": "code",
      "execution_count": null,
      "metadata": {
        "id": "5nl5YVOyEHgG",
        "outputId": "209ccaf6-6acb-4901-a900-4678f5575ee9",
        "colab": {
          "base_uri": "https://localhost:8080/"
        }
      },
      "outputs": [
        {
          "output_type": "execute_result",
          "data": {
            "text/plain": [
              "list"
            ]
          },
          "metadata": {},
          "execution_count": 3
        }
      ],
      "source": [
        "type(l)  # La función type() devuelve el tipo de objeto que es el argumento"
      ]
    },
    {
      "cell_type": "code",
      "execution_count": null,
      "metadata": {
        "id": "pBsUdBAKEHgG",
        "outputId": "3bf4ea40-f754-4125-c40e-f9c4c6d2474c",
        "colab": {
          "base_uri": "https://localhost:8080/"
        }
      },
      "outputs": [
        {
          "output_type": "execute_result",
          "data": {
            "text/plain": [
              "list"
            ]
          },
          "metadata": {},
          "execution_count": 4
        }
      ],
      "source": [
        "type(m)"
      ]
    },
    {
      "cell_type": "markdown",
      "metadata": {
        "id": "8mxhZuXfEHgG"
      },
      "source": [
        "Las listas son iterables: podemos recorrer sus elementos mediante un bucle:"
      ]
    },
    {
      "cell_type": "code",
      "execution_count": null,
      "metadata": {
        "id": "IxUh7xITEHgH",
        "outputId": "98ffb2f7-15d8-47f6-ecc1-19779b563a32",
        "colab": {
          "base_uri": "https://localhost:8080/"
        }
      },
      "outputs": [
        {
          "output_type": "stream",
          "name": "stdout",
          "text": [
            "1\n",
            "2\n",
            "3\n",
            "4\n",
            "5\n",
            "a\n",
            "b\n",
            "c\n",
            "[1, 2]\n",
            "[3, 'c']\n"
          ]
        }
      ],
      "source": [
        "for i in lista:\n",
        "    print(i)"
      ]
    },
    {
      "cell_type": "markdown",
      "metadata": {
        "id": "z1WuML0TEHgI"
      },
      "source": [
        "Se puede acceder a cada elemento de la lista indicando su posición en ella:"
      ]
    },
    {
      "cell_type": "code",
      "execution_count": null,
      "metadata": {
        "id": "PJsKQh7bEHgI",
        "outputId": "574c9f3b-b3d3-47fd-c5a4-567195290e6e",
        "colab": {
          "base_uri": "https://localhost:8080/"
        }
      },
      "outputs": [
        {
          "output_type": "execute_result",
          "data": {
            "text/plain": [
              "1"
            ]
          },
          "metadata": {},
          "execution_count": 6
        }
      ],
      "source": [
        "lista[0]"
      ]
    },
    {
      "cell_type": "markdown",
      "metadata": {
        "id": "lkTTEa4QEHgI"
      },
      "source": [
        "Y se puede reemplazar alguno de sus elementos indicando el nuevo valor:"
      ]
    },
    {
      "cell_type": "code",
      "execution_count": null,
      "metadata": {
        "id": "S7uCniOgEHgJ"
      },
      "outputs": [],
      "source": [
        "lista[0] = 100"
      ]
    },
    {
      "cell_type": "code",
      "execution_count": null,
      "metadata": {
        "id": "_UnrjUkxEHgJ",
        "outputId": "7d1ad322-db8f-4acb-9c88-62c43a659cc2",
        "colab": {
          "base_uri": "https://localhost:8080/"
        }
      },
      "outputs": [
        {
          "output_type": "stream",
          "name": "stdout",
          "text": [
            "[100, 2, 3, 4, 5, 'a', 'b', 'c', [1, 2], [3, 'c']]\n"
          ]
        }
      ],
      "source": [
        "print(lista)"
      ]
    },
    {
      "cell_type": "markdown",
      "metadata": {
        "id": "NVn736pjEHgJ"
      },
      "source": [
        "### Ejercicio:\n",
        "\n",
        "¿Cómo accedemos al elemento 'c' de la lista [3, 'c'] dentro de lista?"
      ]
    },
    {
      "cell_type": "code",
      "source": [
        "lista1 = lista[9]\n",
        "print(lista1[1])"
      ],
      "metadata": {
        "id": "vNbH-X2GEv_3",
        "outputId": "b8b99611-bbb1-4482-e782-b7446a584d29",
        "colab": {
          "base_uri": "https://localhost:8080/"
        }
      },
      "execution_count": null,
      "outputs": [
        {
          "output_type": "stream",
          "name": "stdout",
          "text": [
            "c\n"
          ]
        }
      ]
    },
    {
      "cell_type": "markdown",
      "metadata": {
        "id": "ZsHaBsgZEHgK"
      },
      "source": [
        "Con el operador **in** podemos comprobar si un determinado **valor** está en la lista: dará True si está y False si no está."
      ]
    },
    {
      "cell_type": "code",
      "execution_count": null,
      "metadata": {
        "id": "8JxhKwVlEHgK",
        "outputId": "9d8456ab-0348-4a42-db45-69f2d234c41d",
        "colab": {
          "base_uri": "https://localhost:8080/"
        }
      },
      "outputs": [
        {
          "output_type": "execute_result",
          "data": {
            "text/plain": [
              "False"
            ]
          },
          "metadata": {},
          "execution_count": 18
        }
      ],
      "source": [
        "1 in lista"
      ]
    },
    {
      "cell_type": "markdown",
      "metadata": {
        "id": "xMc0GNWbEHgK"
      },
      "source": [
        "Las listas se pueden sumar y multiplicar"
      ]
    },
    {
      "cell_type": "code",
      "execution_count": null,
      "metadata": {
        "id": "xide8XGtEHgK"
      },
      "outputs": [],
      "source": [
        "a = [1, 2, 3, 4, 5]\n",
        "b = [6,7,8,9,10]"
      ]
    },
    {
      "cell_type": "code",
      "execution_count": null,
      "metadata": {
        "id": "94Gj_P1mEHgL",
        "outputId": "a1ffe1f1-7486-43e5-9e37-4793dae9dc0f",
        "colab": {
          "base_uri": "https://localhost:8080/"
        }
      },
      "outputs": [
        {
          "output_type": "execute_result",
          "data": {
            "text/plain": [
              "[1, 2, 3, 4, 5, 6, 7, 8, 9, 10]"
            ]
          },
          "metadata": {},
          "execution_count": 20
        }
      ],
      "source": [
        "a + b"
      ]
    },
    {
      "cell_type": "code",
      "execution_count": null,
      "metadata": {
        "id": "zrJUNfq-EHgL",
        "outputId": "fac91980-85f5-499d-b210-674434868c6b",
        "colab": {
          "base_uri": "https://localhost:8080/"
        }
      },
      "outputs": [
        {
          "output_type": "execute_result",
          "data": {
            "text/plain": [
              "[6, 7, 8, 9, 10, 6, 7, 8, 9, 10]"
            ]
          },
          "metadata": {},
          "execution_count": 21
        }
      ],
      "source": [
        "2*b        # Observar el resultado"
      ]
    },
    {
      "cell_type": "markdown",
      "metadata": {
        "id": "9EL5erylEHgL"
      },
      "source": [
        "La función **sum( )** devuelve la suma de los elementos de listas numéricas."
      ]
    },
    {
      "cell_type": "code",
      "execution_count": null,
      "metadata": {
        "id": "LoVlox_2EHgL",
        "outputId": "1ecc34ec-3f68-4fb0-faaf-66266904fe75",
        "colab": {
          "base_uri": "https://localhost:8080/"
        }
      },
      "outputs": [
        {
          "output_type": "execute_result",
          "data": {
            "text/plain": [
              "15"
            ]
          },
          "metadata": {},
          "execution_count": 22
        }
      ],
      "source": [
        "sum(a)"
      ]
    },
    {
      "cell_type": "markdown",
      "metadata": {
        "id": "IungkZHkEHgM"
      },
      "source": [
        "La función **len( )** devuelve el número de elementos de la lista."
      ]
    },
    {
      "cell_type": "code",
      "execution_count": null,
      "metadata": {
        "id": "0q6c3wNGEHgM",
        "outputId": "644cc6ae-a78d-431f-fda9-63a30d054618",
        "colab": {
          "base_uri": "https://localhost:8080/"
        }
      },
      "outputs": [
        {
          "output_type": "execute_result",
          "data": {
            "text/plain": [
              "0"
            ]
          },
          "metadata": {},
          "execution_count": 23
        }
      ],
      "source": [
        "len(l)"
      ]
    },
    {
      "cell_type": "markdown",
      "metadata": {
        "id": "1Ca8vapuEHgM"
      },
      "source": [
        "### Ejercicio:"
      ]
    },
    {
      "cell_type": "markdown",
      "metadata": {
        "id": "-XjlgDD9EHgN"
      },
      "source": [
        "Calcular el promedio de:\n",
        "\n",
        "* a\n",
        "* b\n",
        "* 5a ¿Es igual a 5*(promedio de a)?\n",
        "* a + b ¿Es igual a la suma de los promedios?"
      ]
    },
    {
      "cell_type": "code",
      "source": [
        "n = len(a)\n",
        "proma = sum(a)/n\n",
        "print(\"El promedio de a es: \",proma)\n",
        "m = len(b)\n",
        "promb = sum(b)/m\n",
        "print(\"El promedio de b es: \",promb)\n",
        "k = 5*a\n",
        "p = len(k)\n",
        "prom5a = sum(5*k)/p\n",
        "print(\"El promedio es 5a es: \",prom5a)"
      ],
      "metadata": {
        "id": "JDP8ocbRFmcs",
        "outputId": "978dc79f-20cc-4689-c1e8-816a686b1dfc",
        "colab": {
          "base_uri": "https://localhost:8080/"
        }
      },
      "execution_count": null,
      "outputs": [
        {
          "output_type": "stream",
          "name": "stdout",
          "text": [
            "El promedio de a es:  3.0\n",
            "El promedio de b es:  8.0\n",
            "El promedio es 5a es:  15.0\n"
          ]
        }
      ]
    },
    {
      "cell_type": "markdown",
      "metadata": {
        "id": "KLEB7nNcEHgN"
      },
      "source": [
        "También se puede acceder a los elementos de una lista por rangos."
      ]
    },
    {
      "cell_type": "code",
      "execution_count": null,
      "metadata": {
        "id": "E0dfciT0EHgN"
      },
      "outputs": [],
      "source": [
        "a[1:]"
      ]
    },
    {
      "cell_type": "code",
      "execution_count": null,
      "metadata": {
        "id": "fUU2gmcFEHgO"
      },
      "outputs": [],
      "source": [
        "a[:2]"
      ]
    },
    {
      "cell_type": "code",
      "execution_count": null,
      "metadata": {
        "id": "S-u4g24WEHgO"
      },
      "outputs": [],
      "source": [
        "a[3:5]"
      ]
    },
    {
      "cell_type": "code",
      "execution_count": null,
      "metadata": {
        "id": "biEwndvaEHgO"
      },
      "outputs": [],
      "source": [
        "a[::2]"
      ]
    },
    {
      "cell_type": "markdown",
      "metadata": {
        "id": "DV7L1vMFEHgP"
      },
      "source": [
        "La función **append( )** agrega un elemento al final de la lista."
      ]
    },
    {
      "cell_type": "markdown",
      "metadata": {
        "id": "HcELWl4AEHgP"
      },
      "source": [
        "### Ejercicio:\n",
        "\n",
        "1 Generar una lista de 20 números aleatorios.\n",
        "\n",
        "2 Obtener el promedio de los 10 últimos números generados."
      ]
    },
    {
      "cell_type": "code",
      "execution_count": null,
      "metadata": {
        "id": "OuvdL9dLEHgP"
      },
      "outputs": [],
      "source": [
        "r = 20"
      ]
    },
    {
      "cell_type": "code",
      "execution_count": null,
      "metadata": {
        "id": "o5jzapE7EHgQ"
      },
      "outputs": [],
      "source": []
    },
    {
      "cell_type": "markdown",
      "metadata": {
        "id": "Fa1Q44sWEHgQ"
      },
      "source": [
        "## Diccionarios"
      ]
    },
    {
      "cell_type": "markdown",
      "metadata": {
        "id": "WsHaC-ObEHgR"
      },
      "source": [
        "Un **diccionario** es una estructura de datos que almacena conjuntos de pares **clave-valor**."
      ]
    },
    {
      "cell_type": "markdown",
      "metadata": {
        "id": "opglRQ0TEHgR"
      },
      "source": [
        "Para definir un diccionario se escribe un listado entre llaves, {}, mediante un sistema de pares clave-valor. Las entredas se separan por comas y la clave se separa del valor mediante dos puntos, :."
      ]
    },
    {
      "cell_type": "code",
      "execution_count": null,
      "metadata": {
        "id": "DIXb9pHXEHgR"
      },
      "outputs": [],
      "source": [
        "diccionario = {'Nombre': 'Isaac', 'Edad':'22', 'Cursos':['Ecuaciones','Simulación','Operaciones']}"
      ]
    },
    {
      "cell_type": "code",
      "execution_count": null,
      "metadata": {
        "id": "iQbi6vRXEHgk"
      },
      "outputs": [],
      "source": [
        "diccionario['Nombre']"
      ]
    },
    {
      "cell_type": "code",
      "execution_count": null,
      "metadata": {
        "id": "RRt9WHlwEHgk"
      },
      "outputs": [],
      "source": [
        "diccionario['Cursos'][1]"
      ]
    },
    {
      "cell_type": "markdown",
      "metadata": {
        "id": "yBFVVu7PEHgk"
      },
      "source": [
        "La función **dict( )** permite crear un diccionario:"
      ]
    },
    {
      "cell_type": "code",
      "execution_count": null,
      "metadata": {
        "id": "KhoPXkA_EHgl"
      },
      "outputs": [],
      "source": [
        "d = dict(a=1, b=2, c=3)"
      ]
    },
    {
      "cell_type": "code",
      "execution_count": null,
      "metadata": {
        "id": "yTx-LoLEEHgl"
      },
      "outputs": [],
      "source": [
        "print(d)"
      ]
    },
    {
      "cell_type": "code",
      "execution_count": null,
      "metadata": {
        "id": "3wov_rWvEHgl"
      },
      "outputs": [],
      "source": [
        "type(d)"
      ]
    },
    {
      "cell_type": "code",
      "execution_count": null,
      "metadata": {
        "id": "gHCIvhPzEHgm"
      },
      "outputs": [],
      "source": [
        "len(d)"
      ]
    },
    {
      "cell_type": "markdown",
      "metadata": {
        "id": "2k7P1q8jEHgm"
      },
      "source": [
        "Con el operador in podemos comprobar si una determinada **clave** está en el diccionario: dará True si está y False si no está."
      ]
    },
    {
      "cell_type": "code",
      "execution_count": null,
      "metadata": {
        "id": "TRvR4z5JEHgm"
      },
      "outputs": [],
      "source": [
        "'a' in d"
      ]
    },
    {
      "cell_type": "markdown",
      "metadata": {
        "id": "oZxqh5Z3EHgm"
      },
      "source": [
        "Las diccionarios son iterables: podemos recorrer sus elementos mediante un bucle:"
      ]
    },
    {
      "cell_type": "code",
      "execution_count": null,
      "metadata": {
        "id": "M5bvv7NxEHgn"
      },
      "outputs": [],
      "source": [
        "for key in diccionario:\n",
        "    print(key, \":\", diccionario[key])"
      ]
    },
    {
      "cell_type": "markdown",
      "metadata": {
        "id": "gPRj4ZzGEHgn"
      },
      "source": [
        "**items()** devuelve las tuplas clave-valor del diccionario."
      ]
    },
    {
      "cell_type": "code",
      "execution_count": null,
      "metadata": {
        "id": "W59iZtBYEHgn"
      },
      "outputs": [],
      "source": [
        "diccionario.items()"
      ]
    },
    {
      "cell_type": "markdown",
      "metadata": {
        "id": "q1wuRmlmEHgo"
      },
      "source": [
        "**items()** devuelve una tupla, lo cual permite verificar si un par clave-valor está en el diccionario."
      ]
    },
    {
      "cell_type": "code",
      "execution_count": null,
      "metadata": {
        "id": "_OchDtDkEHgo"
      },
      "outputs": [],
      "source": [
        "('a',1) in d.items()"
      ]
    },
    {
      "cell_type": "markdown",
      "metadata": {
        "id": "LKS40Y2XEHgo"
      },
      "source": [
        "**values()** devuelve una lista de los valores del diccionario."
      ]
    },
    {
      "cell_type": "code",
      "execution_count": null,
      "metadata": {
        "id": "-GucYbgoEHgp"
      },
      "outputs": [],
      "source": [
        "diccionario.values()"
      ]
    },
    {
      "cell_type": "code",
      "execution_count": null,
      "metadata": {
        "id": "30D8Go4PEHgp"
      },
      "outputs": [],
      "source": []
    }
  ],
  "metadata": {
    "kernelspec": {
      "display_name": "Python 3",
      "language": "python",
      "name": "python3"
    },
    "language_info": {
      "codemirror_mode": {
        "name": "ipython",
        "version": 3
      },
      "file_extension": ".py",
      "mimetype": "text/x-python",
      "name": "python",
      "nbconvert_exporter": "python",
      "pygments_lexer": "ipython3",
      "version": "3.7.3"
    },
    "colab": {
      "provenance": [],
      "include_colab_link": true
    }
  },
  "nbformat": 4,
  "nbformat_minor": 0
}