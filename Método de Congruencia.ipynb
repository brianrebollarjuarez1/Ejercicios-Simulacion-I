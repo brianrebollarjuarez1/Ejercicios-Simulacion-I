{
  "nbformat": 4,
  "nbformat_minor": 0,
  "metadata": {
    "colab": {
      "provenance": [],
      "authorship_tag": "ABX9TyPAFiNht2PWfFLpiPdL3Unq",
      "include_colab_link": true
    },
    "kernelspec": {
      "name": "python3",
      "display_name": "Python 3"
    },
    "language_info": {
      "name": "python"
    }
  },
  "cells": [
    {
      "cell_type": "markdown",
      "metadata": {
        "id": "view-in-github",
        "colab_type": "text"
      },
      "source": [
        "<a href=\"https://colab.research.google.com/github/brianrebollarjuarez1/Ejercicios-Simulacion-I/blob/main/M%C3%A9todo%20de%20Congruencia.ipynb\" target=\"_parent\"><img src=\"https://colab.research.google.com/assets/colab-badge.svg\" alt=\"Open In Colab\"/></a>"
      ]
    },
    {
      "cell_type": "code",
      "execution_count": null,
      "metadata": {
        "id": "pG9hHWWl3ngc"
      },
      "outputs": [],
      "source": [
        "#Metodo de congruencia"
      ]
    },
    {
      "cell_type": "code",
      "source": [
        "import numpy as np"
      ],
      "metadata": {
        "id": "Q62UCY4M3xBj"
      },
      "execution_count": 241,
      "outputs": []
    },
    {
      "cell_type": "code",
      "source": [
        "from tabulate import tabulate"
      ],
      "metadata": {
        "id": "zo8q2V0yUt9R"
      },
      "execution_count": 242,
      "outputs": []
    },
    {
      "cell_type": "code",
      "source": [
        "indices = np.arange(20)\n",
        "indices"
      ],
      "metadata": {
        "colab": {
          "base_uri": "https://localhost:8080/"
        },
        "id": "rtVGwPy93_LU",
        "outputId": "7c19655b-fecd-4654-8154-6cb2395ea629"
      },
      "execution_count": 243,
      "outputs": [
        {
          "output_type": "execute_result",
          "data": {
            "text/plain": [
              "array([ 0,  1,  2,  3,  4,  5,  6,  7,  8,  9, 10, 11, 12, 13, 14, 15, 16,\n",
              "       17, 18, 19])"
            ]
          },
          "metadata": {},
          "execution_count": 243
        }
      ]
    },
    {
      "cell_type": "code",
      "source": [
        "numal = []\n",
        "numal"
      ],
      "metadata": {
        "colab": {
          "base_uri": "https://localhost:8080/"
        },
        "id": "RpCncQZL4N6-",
        "outputId": "ee6ba519-a118-4236-bbe4-4b7022b2b0f3"
      },
      "execution_count": 244,
      "outputs": [
        {
          "output_type": "execute_result",
          "data": {
            "text/plain": [
              "[]"
            ]
          },
          "metadata": {},
          "execution_count": 244
        }
      ]
    },
    {
      "cell_type": "code",
      "source": [
        "num = []"
      ],
      "metadata": {
        "id": "sjLtOlvp5_S-"
      },
      "execution_count": 245,
      "outputs": []
    },
    {
      "cell_type": "code",
      "source": [
        "m = 16\n",
        "xo = 6\n",
        "a = 5\n",
        "c = 5\n",
        "num.append(xo)\n",
        "num[0]\n",
        "numal.append(xo/16)"
      ],
      "metadata": {
        "id": "iggBV4N54tli"
      },
      "execution_count": 246,
      "outputs": []
    },
    {
      "cell_type": "code",
      "source": [
        "for i in indices:\n",
        "    x = (5*(num[i]) + 5)% m\n",
        "    num.append(x)\n",
        "    x = x/m\n",
        "    numal.append(x)"
      ],
      "metadata": {
        "id": "ny8bPYRc5wzd"
      },
      "execution_count": 247,
      "outputs": []
    },
    {
      "cell_type": "code",
      "source": [
        "numal"
      ],
      "metadata": {
        "id": "IxS-Sbmk7bAW",
        "outputId": "feec9045-a5b1-4ccc-ca9b-21e71e8972e0",
        "colab": {
          "base_uri": "https://localhost:8080/"
        }
      },
      "execution_count": 248,
      "outputs": [
        {
          "output_type": "execute_result",
          "data": {
            "text/plain": [
              "[0.375,\n",
              " 0.1875,\n",
              " 0.25,\n",
              " 0.5625,\n",
              " 0.125,\n",
              " 0.9375,\n",
              " 0.0,\n",
              " 0.3125,\n",
              " 0.875,\n",
              " 0.6875,\n",
              " 0.75,\n",
              " 0.0625,\n",
              " 0.625,\n",
              " 0.4375,\n",
              " 0.5,\n",
              " 0.8125,\n",
              " 0.375,\n",
              " 0.1875,\n",
              " 0.25,\n",
              " 0.5625,\n",
              " 0.125]"
            ]
          },
          "metadata": {},
          "execution_count": 248
        }
      ]
    },
    {
      "cell_type": "code",
      "source": [
        "num"
      ],
      "metadata": {
        "colab": {
          "base_uri": "https://localhost:8080/"
        },
        "id": "YTBQFoCYSxbP",
        "outputId": "98ad64d0-2154-4f5a-8683-e81c1c7b1156"
      },
      "execution_count": 249,
      "outputs": [
        {
          "output_type": "execute_result",
          "data": {
            "text/plain": [
              "[6, 3, 4, 9, 2, 15, 0, 5, 14, 11, 12, 1, 10, 7, 8, 13, 6, 3, 4, 9, 2]"
            ]
          },
          "metadata": {},
          "execution_count": 249
        }
      ]
    },
    {
      "cell_type": "code",
      "source": [
        "numeros = {'N' : indices, 'Xn': num[0:20], 'Xn/m': numal[0:20]}"
      ],
      "metadata": {
        "id": "JCPZvp1pUzpX"
      },
      "execution_count": 250,
      "outputs": []
    },
    {
      "cell_type": "code",
      "source": [
        "print(tabulate(numeros, headers=['N', 'Xn','Xn/m']))"
      ],
      "metadata": {
        "colab": {
          "base_uri": "https://localhost:8080/"
        },
        "id": "W5jnvk4GUw6u",
        "outputId": "1dace87c-2ee5-447e-eee5-10ac7ad87bab"
      },
      "execution_count": 251,
      "outputs": [
        {
          "output_type": "stream",
          "name": "stdout",
          "text": [
            "  N    Xn    Xn/m\n",
            "---  ----  ------\n",
            "  0     6  0.375\n",
            "  1     3  0.1875\n",
            "  2     4  0.25\n",
            "  3     9  0.5625\n",
            "  4     2  0.125\n",
            "  5    15  0.9375\n",
            "  6     0  0\n",
            "  7     5  0.3125\n",
            "  8    14  0.875\n",
            "  9    11  0.6875\n",
            " 10    12  0.75\n",
            " 11     1  0.0625\n",
            " 12    10  0.625\n",
            " 13     7  0.4375\n",
            " 14     8  0.5\n",
            " 15    13  0.8125\n",
            " 16     6  0.375\n",
            " 17     3  0.1875\n",
            " 18     4  0.25\n",
            " 19     9  0.5625\n"
          ]
        }
      ]
    }
  ]
}