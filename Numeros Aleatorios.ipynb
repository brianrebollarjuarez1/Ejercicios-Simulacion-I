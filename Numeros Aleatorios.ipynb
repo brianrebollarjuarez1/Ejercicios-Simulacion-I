{
  "nbformat": 4,
  "nbformat_minor": 0,
  "metadata": {
    "colab": {
      "provenance": [],
      "authorship_tag": "ABX9TyNhpQvPGFVXdbsdTnKH/OBH",
      "include_colab_link": true
    },
    "kernelspec": {
      "name": "python3",
      "display_name": "Python 3"
    },
    "language_info": {
      "name": "python"
    }
  },
  "cells": [
    {
      "cell_type": "markdown",
      "metadata": {
        "id": "view-in-github",
        "colab_type": "text"
      },
      "source": [
        "<a href=\"https://colab.research.google.com/github/brianrebollarjuarez1/Ejercicios-Simulacion-I/blob/main/Numeros%20Aleatorios.ipynb\" target=\"_parent\"><img src=\"https://colab.research.google.com/assets/colab-badge.svg\" alt=\"Open In Colab\"/></a>"
      ]
    },
    {
      "cell_type": "code",
      "execution_count": 1,
      "metadata": {
        "id": "zAYWrzHD2suF"
      },
      "outputs": [],
      "source": [
        "#Numerosaleatorios"
      ]
    },
    {
      "cell_type": "code",
      "source": [
        "import random"
      ],
      "metadata": {
        "id": "q-japMJW220Q"
      },
      "execution_count": 238,
      "outputs": []
    },
    {
      "cell_type": "code",
      "source": [
        "numal = []"
      ],
      "metadata": {
        "id": "G8CrR2KV3Ben"
      },
      "execution_count": 239,
      "outputs": []
    },
    {
      "cell_type": "code",
      "source": [
        "indices = [0,1,2,3,4,5,6,7,8,9,10,11,12,13,14,15,16,17,18,19,20,21,22,23,24,25,26,27,28,29,30,31,32,33,34,35,36,37,38,39,40,41,42,43,44,45,46,47,48,49,50]"
      ],
      "metadata": {
        "id": "IT6LUtwX3Hc8"
      },
      "execution_count": 240,
      "outputs": []
    },
    {
      "cell_type": "code",
      "source": [
        "print(indices)"
      ],
      "metadata": {
        "colab": {
          "base_uri": "https://localhost:8080/"
        },
        "id": "u0-_CPoS3ZxW",
        "outputId": "57f3a60b-60f9-426c-ed2e-58de56d77ca7"
      },
      "execution_count": 241,
      "outputs": [
        {
          "output_type": "stream",
          "name": "stdout",
          "text": [
            "[0, 1, 2, 3, 4, 5, 6, 7, 8, 9, 10, 11, 12, 13, 14, 15, 16, 17, 18, 19, 20, 21, 22, 23, 24, 25, 26, 27, 28, 29, 30, 31, 32, 33, 34, 35, 36, 37, 38, 39, 40, 41, 42, 43, 44, 45, 46, 47, 48, 49, 50]\n"
          ]
        }
      ]
    },
    {
      "cell_type": "code",
      "source": [
        "numal.append(2124)"
      ],
      "metadata": {
        "id": "AwTfn75J5efx"
      },
      "execution_count": 242,
      "outputs": []
    },
    {
      "cell_type": "code",
      "source": [
        "for x in indices:\n",
        "   n = numal[x]**2\n",
        "   p = str(n)\n",
        "   if len(p) == 7:\n",
        "      p = '0' + p\n",
        "   p = p[2:6]\n",
        "   p = int(p)\n",
        "   numal.append(p)\n",
        "   print(p)"
      ],
      "metadata": {
        "colab": {
          "base_uri": "https://localhost:8080/"
        },
        "id": "zgUd-AbB5yrj",
        "outputId": "59474f02-f8f8-4056-9444-1105db578d1e"
      },
      "execution_count": 243,
      "outputs": [
        {
          "output_type": "stream",
          "name": "stdout",
          "text": [
            "5113\n",
            "1427\n",
            "363\n",
            "1769\n",
            "1293\n",
            "6718\n",
            "1315\n",
            "7292\n",
            "1732\n",
            "9998\n",
            "9600\n",
            "1600\n",
            "5600\n",
            "3600\n",
            "9600\n",
            "1600\n",
            "5600\n",
            "3600\n",
            "9600\n",
            "1600\n",
            "5600\n",
            "3600\n",
            "9600\n",
            "1600\n",
            "5600\n",
            "3600\n",
            "9600\n",
            "1600\n",
            "5600\n",
            "3600\n",
            "9600\n",
            "1600\n",
            "5600\n",
            "3600\n",
            "9600\n",
            "1600\n",
            "5600\n",
            "3600\n",
            "9600\n",
            "1600\n",
            "5600\n",
            "3600\n",
            "9600\n",
            "1600\n",
            "5600\n",
            "3600\n",
            "9600\n",
            "1600\n",
            "5600\n",
            "3600\n",
            "9600\n"
          ]
        }
      ]
    }
  ]
}