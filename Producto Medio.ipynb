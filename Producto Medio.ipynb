{
  "nbformat": 4,
  "nbformat_minor": 0,
  "metadata": {
    "colab": {
      "provenance": [],
      "authorship_tag": "ABX9TyN94a6SF6Vm46hQInKa2b8/",
      "include_colab_link": true
    },
    "kernelspec": {
      "name": "python3",
      "display_name": "Python 3"
    },
    "language_info": {
      "name": "python"
    }
  },
  "cells": [
    {
      "cell_type": "markdown",
      "metadata": {
        "id": "view-in-github",
        "colab_type": "text"
      },
      "source": [
        "<a href=\"https://colab.research.google.com/github/brianrebollarjuarez1/Ejercicios-Simulacion-I/blob/main/Producto%20Medio.ipynb\" target=\"_parent\"><img src=\"https://colab.research.google.com/assets/colab-badge.svg\" alt=\"Open In Colab\"/></a>"
      ]
    },
    {
      "cell_type": "code",
      "execution_count": null,
      "metadata": {
        "id": "vwmdbefiuCLV"
      },
      "outputs": [],
      "source": [
        "#Números Aleatorios por Producto Medio"
      ]
    },
    {
      "cell_type": "code",
      "source": [
        "import random"
      ],
      "metadata": {
        "id": "GV8RXd_EuNU_"
      },
      "execution_count": 179,
      "outputs": []
    },
    {
      "cell_type": "code",
      "source": [
        "numal = []"
      ],
      "metadata": {
        "id": "cTySphFCxhhI"
      },
      "execution_count": 180,
      "outputs": []
    },
    {
      "cell_type": "code",
      "source": [
        "indices = [1,2,3,4,5,6,7,8,9,10,11,12]"
      ],
      "metadata": {
        "id": "Puwa81Fiur9m"
      },
      "execution_count": 181,
      "outputs": []
    },
    {
      "cell_type": "code",
      "source": [
        "x0 = random.randint(100,999)\n",
        "print(x0)\n",
        "numal.append(x0)\n",
        "print(numal[:])"
      ],
      "metadata": {
        "colab": {
          "base_uri": "https://localhost:8080/"
        },
        "id": "RvvnQggvudtY",
        "outputId": "91a645e8-3ca3-43e1-8c37-0fc3b00cc0c2"
      },
      "execution_count": 182,
      "outputs": [
        {
          "output_type": "stream",
          "name": "stdout",
          "text": [
            "983\n",
            "[983]\n"
          ]
        }
      ]
    },
    {
      "cell_type": "code",
      "source": [
        "x1 = random.randint(100,999)\n",
        "print(x1)\n",
        "numal.append(x1)\n",
        "print(numal[:])"
      ],
      "metadata": {
        "colab": {
          "base_uri": "https://localhost:8080/"
        },
        "id": "0yqHpnoWug8i",
        "outputId": "8a13a63d-d916-4299-8f56-877e62480436"
      },
      "execution_count": 183,
      "outputs": [
        {
          "output_type": "stream",
          "name": "stdout",
          "text": [
            "658\n",
            "[983, 658]\n"
          ]
        }
      ]
    },
    {
      "cell_type": "code",
      "source": [
        "for x in indices:\n",
        "    num = numal[x] * numal[x-1]\n",
        "    num = str(num)\n",
        "    if len(num) == 5:\n",
        "       num = num[1:4]\n",
        "    else:\n",
        "       num = num[2:5]\n",
        "    num = int(num)\n",
        "    numal.append(num)\n",
        "print(numal[:])"
      ],
      "metadata": {
        "colab": {
          "base_uri": "https://localhost:8080/"
        },
        "id": "slxtFhRDup3V",
        "outputId": "678f1e75-b0a4-4854-cf7a-dd01cb4a71d5"
      },
      "execution_count": 184,
      "outputs": [
        {
          "output_type": "stream",
          "name": "stdout",
          "text": [
            "[983, 658, 681, 809, 92, 442, 66, 917, 52, 768, 993, 262, 16, 92]\n"
          ]
        }
      ]
    }
  ]
}