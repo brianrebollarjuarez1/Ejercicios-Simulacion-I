{
  "nbformat": 4,
  "nbformat_minor": 0,
  "metadata": {
    "colab": {
      "provenance": [],
      "authorship_tag": "ABX9TyN7mw/u+yXwKbWxQb7xlfO3",
      "include_colab_link": true
    },
    "kernelspec": {
      "name": "python3",
      "display_name": "Python 3"
    },
    "language_info": {
      "name": "python"
    }
  },
  "cells": [
    {
      "cell_type": "markdown",
      "metadata": {
        "id": "view-in-github",
        "colab_type": "text"
      },
      "source": [
        "<a href=\"https://colab.research.google.com/github/brianrebollarjuarez1/Ejercicios-Simulacion-I/blob/main/Prueba_Kolmogorov_Smirnov.ipynb\" target=\"_parent\"><img src=\"https://colab.research.google.com/assets/colab-badge.svg\" alt=\"Open In Colab\"/></a>"
      ]
    },
    {
      "cell_type": "code",
      "execution_count": 12,
      "metadata": {
        "id": "4k7Lvy2i_3gX"
      },
      "outputs": [],
      "source": [
        "#Prueba Kolmogorov-Smirnov"
      ]
    },
    {
      "cell_type": "code",
      "source": [
        "import random as rnd"
      ],
      "metadata": {
        "id": "9wYtLKpVBX8F"
      },
      "execution_count": 102,
      "outputs": []
    },
    {
      "cell_type": "code",
      "source": [
        "import numpy as np"
      ],
      "metadata": {
        "id": "GjNUIXzUBbw5"
      },
      "execution_count": 103,
      "outputs": []
    },
    {
      "cell_type": "code",
      "source": [
        "from tabulate import tabulate"
      ],
      "metadata": {
        "id": "pNvjhBYfMsXk"
      },
      "execution_count": 104,
      "outputs": []
    },
    {
      "cell_type": "code",
      "source": [
        "def numalea(n):\n",
        "    numal = []\n",
        "    indices = np.arange(n)\n",
        "    for i in indices:\n",
        "       numal.append(rnd.random())\n",
        "    numal.sort()\n",
        "    numal = np.array(numal)\n",
        "    return numal"
      ],
      "metadata": {
        "id": "DPNP_26qA74v"
      },
      "execution_count": 105,
      "outputs": []
    },
    {
      "cell_type": "code",
      "source": [
        "def Dplusminus(n,numal):\n",
        "   numalcopia = numal.copy()\n",
        "   valoresmas = []\n",
        "   valoresmenos = []\n",
        "   indices = np.arange(n + 1)\n",
        "   indices = indices[1:]\n",
        "   for i in indices:\n",
        "     valoresmas.append((i/n) - numalcopia[i -1])\n",
        "     valoresmenos.append(numal[i - 1] - ((i - 1)/n))\n",
        "   valoresmas = np.array(valoresmas)\n",
        "   valoresmenos = np.array(valoresmenos)\n",
        "   Dmas = np.amax(valoresmas)\n",
        "   Dmenos = np.amax(valoresmenos)\n",
        "   return Dmas,Dmenos,valoresmas,valoresmenos"
      ],
      "metadata": {
        "id": "aZbgxo-7CBm2"
      },
      "execution_count": 106,
      "outputs": []
    },
    {
      "cell_type": "code",
      "source": [
        "n = 50\n",
        "numal = numalea(n)\n",
        "print(numal)"
      ],
      "metadata": {
        "colab": {
          "base_uri": "https://localhost:8080/"
        },
        "id": "3m4h8rvVA5wL",
        "outputId": "8ee8512d-fa5d-49fb-8686-f09a7f1c953a"
      },
      "execution_count": 107,
      "outputs": [
        {
          "output_type": "stream",
          "name": "stdout",
          "text": [
            "[0.00285644 0.00475477 0.01327055 0.02293688 0.05921796 0.09224326\n",
            " 0.09362397 0.09454974 0.11397299 0.12522261 0.14095713 0.16912118\n",
            " 0.21074243 0.22046023 0.26499414 0.27766615 0.29608108 0.30500432\n",
            " 0.30956592 0.35683845 0.35892041 0.3872864  0.40164625 0.43437599\n",
            " 0.44329504 0.45381212 0.46309547 0.49250652 0.51061917 0.51084328\n",
            " 0.51885022 0.52851288 0.53813239 0.59551403 0.59884694 0.63543736\n",
            " 0.64531981 0.67854791 0.71306369 0.73623181 0.77882582 0.78547359\n",
            " 0.79261845 0.79535859 0.83857372 0.85873948 0.90888365 0.95995709\n",
            " 0.96062734 0.97021107]\n"
          ]
        }
      ]
    },
    {
      "cell_type": "code",
      "source": [
        "Dmas,Dmenos,valoresmas,valoresmenos = Dplusminus(n,numal)\n",
        "print(Dmas,Dmenos)"
      ],
      "metadata": {
        "colab": {
          "base_uri": "https://localhost:8080/"
        },
        "id": "gmo99xMpJEt2",
        "outputId": "a3f79dbd-91da-4542-9caa-af942be14421"
      },
      "execution_count": 108,
      "outputs": [
        {
          "output_type": "stream",
          "name": "stdout",
          "text": [
            "0.12186761371725019 0.019957093845360485\n"
          ]
        }
      ]
    },
    {
      "cell_type": "code",
      "source": [
        "if Dmas > Dmenos:\n",
        "   D = Dmas\n",
        "elif Dmas < Dmenos:\n",
        "   D = Dmenos\n",
        "else:\n",
        "   D = Dmas"
      ],
      "metadata": {
        "id": "oo3ptZR0JyA9"
      },
      "execution_count": 109,
      "outputs": []
    },
    {
      "cell_type": "code",
      "source": [
        "d = 0.1246\n",
        "print(\"El valor de D es: \", D)\n",
        "print(\"El valor de d es: \", d)\n",
        "if D < d:\n",
        "   print(\"Se acepta la hipótesis nula.\")\n",
        "else:\n",
        "   print(\"Se rechaza la hipótesis nula.\")"
      ],
      "metadata": {
        "colab": {
          "base_uri": "https://localhost:8080/"
        },
        "id": "tc7J8icuKXww",
        "outputId": "708c9d43-1929-461c-d308-2dbe47648f61"
      },
      "execution_count": 110,
      "outputs": [
        {
          "output_type": "stream",
          "name": "stdout",
          "text": [
            "El valor de D es:  0.12186761371725019\n",
            "El valor de d es:  0.1246\n",
            "Se acepta la hipótesis nula.\n"
          ]
        }
      ]
    },
    {
      "cell_type": "code",
      "source": [
        "indices = np.arange(n + 1)\n",
        "indices = indices[1:]\n",
        "tabla = {'i' : indices, 'xi' : numal, 'D+': valoresmas, 'D-': valoresmenos}\n",
        "print(tabulate(tabla, headers = ['i','xi','D+','D-']))"
      ],
      "metadata": {
        "colab": {
          "base_uri": "https://localhost:8080/"
        },
        "id": "eaBApgoOLS8v",
        "outputId": "1843124c-e652-4254-ffb2-3ed8add43d61"
      },
      "execution_count": 111,
      "outputs": [
        {
          "output_type": "stream",
          "name": "stdout",
          "text": [
            "  i          xi           D+            D-\n",
            "---  ----------  -----------  ------------\n",
            "  1  0.00285644  0.0171436     0.00285644\n",
            "  2  0.00475477  0.0352452    -0.0152452\n",
            "  3  0.0132705   0.0467295    -0.0267295\n",
            "  4  0.0229369   0.0570631    -0.0370631\n",
            "  5  0.059218    0.040782     -0.020782\n",
            "  6  0.0922433   0.0277567    -0.00775674\n",
            "  7  0.093624    0.046376     -0.026376\n",
            "  8  0.0945497   0.0654503    -0.0454503\n",
            "  9  0.113973    0.066027     -0.046027\n",
            " 10  0.125223    0.0747774    -0.0547774\n",
            " 11  0.140957    0.0790429    -0.0590429\n",
            " 12  0.169121    0.0708788    -0.0508788\n",
            " 13  0.210742    0.0492576    -0.0292576\n",
            " 14  0.22046     0.0595398    -0.0395398\n",
            " 15  0.264994    0.0350059    -0.0150059\n",
            " 16  0.277666    0.0423339    -0.0223339\n",
            " 17  0.296081    0.0439189    -0.0239189\n",
            " 18  0.305004    0.0549957    -0.0349957\n",
            " 19  0.309566    0.0704341    -0.0504341\n",
            " 20  0.356838    0.0431616    -0.0231616\n",
            " 21  0.35892     0.0610796    -0.0410796\n",
            " 22  0.387286    0.0527136    -0.0327136\n",
            " 23  0.401646    0.0583537    -0.0383537\n",
            " 24  0.434376    0.045624     -0.025624\n",
            " 25  0.443295    0.056705     -0.036705\n",
            " 26  0.453812    0.0661879    -0.0461879\n",
            " 27  0.463095    0.0769045    -0.0569045\n",
            " 28  0.492507    0.0674935    -0.0474935\n",
            " 29  0.510619    0.0693808    -0.0493808\n",
            " 30  0.510843    0.0891567    -0.0691567\n",
            " 31  0.51885     0.10115      -0.0811498\n",
            " 32  0.528513    0.111487     -0.0914871\n",
            " 33  0.538132    0.121868     -0.101868\n",
            " 34  0.595514    0.084486     -0.064486\n",
            " 35  0.598847    0.101153     -0.0811531\n",
            " 36  0.635437    0.0845626    -0.0645626\n",
            " 37  0.64532     0.0946802    -0.0746802\n",
            " 38  0.678548    0.0814521    -0.0614521\n",
            " 39  0.713064    0.0669363    -0.0469363\n",
            " 40  0.736232    0.0637682    -0.0437682\n",
            " 41  0.778826    0.0411742    -0.0211742\n",
            " 42  0.785474    0.0545264    -0.0345264\n",
            " 43  0.792618    0.0673816    -0.0473816\n",
            " 44  0.795359    0.0846414    -0.0646414\n",
            " 45  0.838574    0.0614263    -0.0414263\n",
            " 46  0.858739    0.0612605    -0.0412605\n",
            " 47  0.908884    0.0311163    -0.0111163\n",
            " 48  0.959957    4.29062e-05   0.0199571\n",
            " 49  0.960627    0.0193727     0.000627341\n",
            " 50  0.970211    0.0297889    -0.00978893\n"
          ]
        }
      ]
    }
  ]
}